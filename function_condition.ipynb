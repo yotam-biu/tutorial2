{
  "cells": [
    {
      "cell_type": "markdown",
      "metadata": {
        "id": "view-in-github",
        "colab_type": "text"
      },
      "source": [
        "<a href=\"https://colab.research.google.com/github/yotam-biu/tutorial2/blob/main/function_condition.ipynb\" target=\"_parent\"><img src=\"https://colab.research.google.com/assets/colab-badge.svg\" alt=\"Open In Colab\"/></a>"
      ]
    },
    {
      "cell_type": "code",
      "execution_count": null,
      "id": "98ddbe71",
      "metadata": {
        "id": "98ddbe71"
      },
      "outputs": [],
      "source": [
        "my_input = \"3.3\"\n",
        "type(my_input)"
      ]
    },
    {
      "cell_type": "code",
      "execution_count": null,
      "id": "c90083ef",
      "metadata": {
        "id": "c90083ef"
      },
      "outputs": [],
      "source": [
        "my_new_input = float(my_input)\n",
        "type(my_new_input)"
      ]
    },
    {
      "cell_type": "code",
      "execution_count": null,
      "id": "b55b5ce6",
      "metadata": {
        "id": "b55b5ce6"
      },
      "outputs": [],
      "source": [
        "my_input, my_new_input"
      ]
    },
    {
      "cell_type": "markdown",
      "id": "c59bffc4",
      "metadata": {
        "id": "c59bffc4"
      },
      "source": [
        "## Exercise: Water state"
      ]
    },
    {
      "cell_type": "markdown",
      "id": "a9f59e76",
      "metadata": {
        "id": "a9f59e76"
      },
      "source": [
        "Run this part of the notebook that define the state of the water base on his temperature:\n"
      ]
    },
    {
      "cell_type": "code",
      "execution_count": null,
      "id": "0665552c",
      "metadata": {
        "id": "0665552c"
      },
      "outputs": [],
      "source": [
        "def state(Tm, Tv, T):\n",
        "    '''\n",
        "    Return the state of material with Tm and Tv at temperature T\n",
        "     '''\n",
        "    pass  # Replace 'pass' with code\n"
      ]
    },
    {
      "cell_type": "code",
      "execution_count": null,
      "id": "f543acdd",
      "metadata": {
        "id": "f543acdd"
      },
      "outputs": [],
      "source": [
        "state(0,100,120)"
      ]
    },
    {
      "cell_type": "code",
      "execution_count": null,
      "id": "f02002ee",
      "metadata": {
        "id": "f02002ee"
      },
      "outputs": [],
      "source": [
        "def matter_state(T):\n",
        "    '''\n",
        "    Return the state of the water at temperature T ('ice', 'liquid', or 'gas')\n",
        "    '''\n",
        "    pass"
      ]
    },
    {
      "cell_type": "code",
      "execution_count": null,
      "id": "852abbe3",
      "metadata": {
        "id": "852abbe3"
      },
      "outputs": [],
      "source": [
        "water_state(-2)"
      ]
    },
    {
      "cell_type": "code",
      "execution_count": null,
      "id": "bb766067",
      "metadata": {
        "id": "bb766067"
      },
      "outputs": [],
      "source": [
        "def get_room_temp():\n",
        "    \"\"\"\n",
        "    Prompts the user to input the current room temperature and returns it.\n",
        "    \"\"\"\n",
        "    pass"
      ]
    },
    {
      "cell_type": "code",
      "execution_count": null,
      "id": "eff041a8",
      "metadata": {
        "id": "eff041a8"
      },
      "outputs": [],
      "source": [
        "get_room_temp()"
      ]
    },
    {
      "cell_type": "code",
      "execution_count": null,
      "id": "3a009956",
      "metadata": {
        "id": "3a009956"
      },
      "outputs": [],
      "source": [
        "T = get_room_temp()\n",
        "my_state = water_state(T)\n",
        "print(\"Water at\", T, \"degrees is\", my_state)"
      ]
    },
    {
      "cell_type": "markdown",
      "id": "ac49670c",
      "metadata": {
        "id": "ac49670c"
      },
      "source": [
        "* Try to input the value 0 and see what you get\n",
        "* Try to input the value 1.1 and see the error-massage you get\n",
        "\n",
        "Correct the code"
      ]
    },
    {
      "cell_type": "markdown",
      "source": [
        "## Find the Maximum Number\n"
      ],
      "metadata": {
        "id": "ESwQpLxvH7AS"
      },
      "id": "ESwQpLxvH7AS"
    },
    {
      "cell_type": "markdown",
      "source": [
        "Create a function called `find_max_number` that takes three numbers as input and returns the maximum value. Complete the function by filling in the missing part of the code.\n",
        "\n",
        "Use `if` and `else` statements to compare the three numbers and return the maximum value.\n",
        "\n",
        "**Hint**: You may need to use multiple `if` and `else` statements to make the comparisons."
      ],
      "metadata": {
        "id": "CJyT0coHIF4R"
      },
      "id": "CJyT0coHIF4R"
    },
    {
      "cell_type": "code",
      "source": [
        "def find_max_number(num1, num2, num3):\n",
        "    pass  # Replace 'pass' with code"
      ],
      "metadata": {
        "id": "gkzZREm6H_DI"
      },
      "id": "gkzZREm6H_DI",
      "execution_count": null,
      "outputs": []
    },
    {
      "cell_type": "markdown",
      "source": [
        "Now, test your function by selecting three numbers and checking if it returns the correct maximum value among them:"
      ],
      "metadata": {
        "id": "lKD2IAHLJUCB"
      },
      "id": "lKD2IAHLJUCB"
    },
    {
      "cell_type": "code",
      "source": [
        "num1 = 1\n",
        "num2 = 3\n",
        "num3 = -1\n",
        "max_num = find_max_number(num1, num2, num3)\n",
        "print(\"The maximum number is:\", max_num)"
      ],
      "metadata": {
        "id": "8jnTArjrJdpY"
      },
      "id": "8jnTArjrJdpY",
      "execution_count": null,
      "outputs": []
    }
  ],
  "metadata": {
    "kernelspec": {
      "display_name": "Python 3 (ipykernel)",
      "language": "python",
      "name": "python3"
    },
    "language_info": {
      "codemirror_mode": {
        "name": "ipython",
        "version": 3
      },
      "file_extension": ".py",
      "mimetype": "text/x-python",
      "name": "python",
      "nbconvert_exporter": "python",
      "pygments_lexer": "ipython3",
      "version": "3.9.7"
    },
    "colab": {
      "provenance": [],
      "collapsed_sections": [
        "c59bffc4",
        "ESwQpLxvH7AS"
      ],
      "include_colab_link": true
    }
  },
  "nbformat": 4,
  "nbformat_minor": 5
}