{
  "cells": [
    {
      "cell_type": "markdown",
      "metadata": {
        "id": "view-in-github",
        "colab_type": "text"
      },
      "source": [
        "<a href=\"https://colab.research.google.com/github/yotam-biu/tutorial2/blob/main/function_condition_solution.ipynb\" target=\"_parent\"><img src=\"https://colab.research.google.com/assets/colab-badge.svg\" alt=\"Open In Colab\"/></a>"
      ]
    },
    {
      "cell_type": "code",
      "execution_count": null,
      "id": "98ddbe71",
      "metadata": {
        "id": "98ddbe71"
      },
      "outputs": [],
      "source": [
        "my_input = \"3.3\"\n",
        "type(my_input)"
      ]
    },
    {
      "cell_type": "code",
      "execution_count": null,
      "id": "c90083ef",
      "metadata": {
        "id": "c90083ef"
      },
      "outputs": [],
      "source": [
        "my_new_input = float(my_input)\n",
        "type(my_new_input)"
      ]
    },
    {
      "cell_type": "code",
      "execution_count": null,
      "id": "b55b5ce6",
      "metadata": {
        "id": "b55b5ce6"
      },
      "outputs": [],
      "source": [
        "my_input, my_new_input"
      ]
    },
    {
      "cell_type": "markdown",
      "id": "c59bffc4",
      "metadata": {
        "id": "c59bffc4"
      },
      "source": [
        "# Exercise: Water state"
      ]
    },
    {
      "cell_type": "markdown",
      "id": "a9f59e76",
      "metadata": {
        "id": "a9f59e76"
      },
      "source": [
        "Run this part of the notebook that define the state of the water base on his temperature:\n"
      ]
    },
    {
      "cell_type": "code",
      "execution_count": null,
      "id": "0665552c",
      "metadata": {
        "id": "0665552c"
      },
      "outputs": [],
      "source": [
        "def state(Tm, Tv, T):\n",
        "    # ''' return the state of material with Tm and Tv at temperature T '''\n",
        "    if T <= Tm:\n",
        "        return \"solid\"\n",
        "    if Tm <= T < Tv:\n",
        "        return \"liquid\"\n",
        "    else:\n",
        "        return \"gas\""
      ]
    },
    {
      "cell_type": "code",
      "execution_count": null,
      "id": "f543acdd",
      "metadata": {
        "id": "f543acdd"
      },
      "outputs": [],
      "source": [
        "state(0,100,120)"
      ]
    },
    {
      "cell_type": "code",
      "execution_count": null,
      "id": "a849906b",
      "metadata": {
        "id": "a849906b"
      },
      "outputs": [],
      "source": [
        "def water_state(T):\n",
        "    ''' return the state of the water at temperature T '''\n",
        "    state_of_matter = state(0,100, T)\n",
        "    # if you get 'solid' change it to 'ice'\n",
        "    if state_of_matter == 'solid':\n",
        "        return 'ice'\n",
        "    else:\n",
        "        return state_of_matter\n"
      ]
    },
    {
      "cell_type": "code",
      "source": [
        "water_state(-2)"
      ],
      "metadata": {
        "id": "YbFZNRR4PM9n"
      },
      "id": "YbFZNRR4PM9n",
      "execution_count": null,
      "outputs": []
    },
    {
      "cell_type": "code",
      "execution_count": null,
      "id": "bb766067",
      "metadata": {
        "id": "bb766067"
      },
      "outputs": [],
      "source": [
        "def get_room_temp():\n",
        "    room_temp = input(\"Please provide the current temperature: \")\n",
        "    return float(room_temp)"
      ]
    },
    {
      "cell_type": "code",
      "execution_count": null,
      "id": "eff041a8",
      "metadata": {
        "id": "eff041a8"
      },
      "outputs": [],
      "source": [
        "get_room_temp()"
      ]
    },
    {
      "cell_type": "code",
      "execution_count": null,
      "id": "3a009956",
      "metadata": {
        "id": "3a009956"
      },
      "outputs": [],
      "source": [
        "T = get_room_temp()\n",
        "my_state = water_state(T)\n",
        "print(\"Water at\", T, \"degrees is\", my_state)"
      ]
    },
    {
      "cell_type": "markdown",
      "id": "ac49670c",
      "metadata": {
        "id": "ac49670c"
      },
      "source": [
        "* Try the value 0 and see what you get\n",
        "* Try the value 1.1 and see the error-massage you get\n",
        "\n",
        "Correct the code"
      ]
    }
  ],
  "metadata": {
    "kernelspec": {
      "display_name": "Python 3 (ipykernel)",
      "language": "python",
      "name": "python3"
    },
    "language_info": {
      "codemirror_mode": {
        "name": "ipython",
        "version": 3
      },
      "file_extension": ".py",
      "mimetype": "text/x-python",
      "name": "python",
      "nbconvert_exporter": "python",
      "pygments_lexer": "ipython3",
      "version": "3.9.7"
    },
    "colab": {
      "provenance": [],
      "include_colab_link": true
    }
  },
  "nbformat": 4,
  "nbformat_minor": 5
}