{
  "cells": [
    {
      "cell_type": "markdown",
      "metadata": {
        "id": "view-in-github",
        "colab_type": "text"
      },
      "source": [
        "<a href=\"https://colab.research.google.com/github/yotam-biu/tutorial2/blob/main/scalars.ipynb\" target=\"_parent\"><img src=\"https://colab.research.google.com/assets/colab-badge.svg\" alt=\"Open In Colab\"/></a>"
      ]
    },
    {
      "cell_type": "markdown",
      "metadata": {
        "id": "jHtFEnjrOIVX"
      },
      "source": [
        "reference to this notebook: https://gist.github.com/kenjyco/69eeb503125035f21a9d"
      ]
    },
    {
      "cell_type": "markdown",
      "source": [
        "## Python objects, basic types, and variables"
      ],
      "metadata": {
        "id": "P9moEQgvDfMr"
      }
    },
    {
      "cell_type": "markdown",
      "metadata": {
        "id": "NSl1QB9cOIVb"
      },
      "source": [
        "\n",
        "\n",
        "Everything in Python is an **object** and every object in Python has a **type**. Some of the basic types include:\n",
        "\n",
        "- **`int`** (integer; a whole number with no decimal place)\n",
        "  - `10`\n",
        "  - `-3`\n",
        "- **`float`** (float; a number that has a decimal place)\n",
        "  - `7.41`\n",
        "  - `-0.006`\n",
        "- **`str`** (string; a sequence of characters enclosed in single quotes, double quotes, or triple quotes)\n",
        "  - `'this is a string using single quotes'`\n",
        "  - `\"this is a string using double quotes\"`\n",
        "  - `'''this is a triple quoted string using single quotes'''`\n",
        "  - `\"\"\"this is a triple quoted string using double quotes\"\"\"`\n",
        "- **`bool`** (boolean; a binary value that is either true or false)\n",
        "  - `True`\n",
        "  - `False`\n",
        "- **`NoneType`** (a special type representing the absence of a value)\n",
        "  - `None`\n",
        "\n",
        "In Python, a **variable** is a name you specify in your code that maps to a particular **object**, object **instance**, or value.\n",
        "\n",
        "By defining variables, we can refer to things by names that make sense to us. Names for variables can only contain letters, underscores (`_`), or numbers (no spaces, dashes, or other characters). Variable names must start with a letter or underscore.\n",
        "\n",
        "<hr>"
      ]
    },
    {
      "cell_type": "markdown",
      "source": [
        "## Basic operators"
      ],
      "metadata": {
        "id": "DjuLZlQBDkxT"
      }
    },
    {
      "cell_type": "markdown",
      "metadata": {
        "id": "wVWRKVibOIVb"
      },
      "source": [
        "\n",
        "\n",
        "In Python, there are different types of **operators** (special symbols) that operate on different values. Some of the basic operators include:\n",
        "\n",
        "- arithmetic operators\n",
        "  - **`+`** (addition)\n",
        "  - **`-`** (subtraction)\n",
        "  - **`*`** (multiplication)\n",
        "  - **`/`** (division)\n",
        "  - __`**`__ (exponent)\n",
        "- assignment operators\n",
        "  - **`=`** (assign a value)\n",
        "  - **`+=`** (add and re-assign; increment)\n",
        "  - **`-=`** (subtract and re-assign; decrement)\n",
        "  - **`*=`** (multiply and re-assign)\n",
        "- comparison operators (return either `True` or `False`)\n",
        "  - **`==`** (equal to)\n",
        "  - **`!=`** (not equal to)\n",
        "  - **`<`** (less than)\n",
        "  - **`<=`** (less than or equal to)\n",
        "  - **`>`** (greater than)\n",
        "  - **`>=`** (greater than or equal to)\n",
        "\n",
        "When multiple operators are used in a single expression, **operator precedence** determines which parts of the expression are evaluated in which order. Operators with higher precedence are evaluated first (like PEMDAS in math). Operators with the same precedence are evaluated from left to right.\n",
        "\n",
        "- `()` parentheses, for grouping\n",
        "- `**` exponent\n",
        "- `*`, `/` multiplication and division\n",
        "- `+`, `-` addition and subtraction\n",
        "- `==`, `!=`, `<`, `<=`, `>`, `>=` comparisons"
      ]
    },
    {
      "cell_type": "code",
      "execution_count": null,
      "metadata": {
        "id": "TxuDbkrQOIVe"
      },
      "outputs": [],
      "source": [
        "num = 11.11\n",
        "num += 4\n",
        "num"
      ]
    },
    {
      "cell_type": "code",
      "execution_count": null,
      "metadata": {
        "id": "cG9xjlMLOIVf"
      },
      "outputs": [],
      "source": [
        "num = 11.11\n",
        "num -= 2\n",
        "num"
      ]
    },
    {
      "cell_type": "code",
      "execution_count": null,
      "metadata": {
        "id": "2WRllpVPOIVf"
      },
      "outputs": [],
      "source": [
        "num = 3\n",
        "num *= 5\n",
        "num"
      ]
    },
    {
      "cell_type": "code",
      "source": [
        "simple_string = 'an example'\n",
        "simple_string += ' that re-assigned the original string'\n",
        "simple_string"
      ],
      "metadata": {
        "id": "RAKZ7YHhEbne"
      },
      "execution_count": null,
      "outputs": []
    },
    {
      "cell_type": "code",
      "execution_count": null,
      "metadata": {
        "id": "PvZEMT47OIVg"
      },
      "outputs": [],
      "source": [
        "2 == 3"
      ]
    },
    {
      "cell_type": "code",
      "execution_count": null,
      "metadata": {
        "id": "OmC8Mn7sOIVg"
      },
      "outputs": [],
      "source": [
        "2 != 3"
      ]
    },
    {
      "cell_type": "code",
      "execution_count": null,
      "metadata": {
        "id": "JSrM13bbOIVg"
      },
      "outputs": [],
      "source": [
        "2 < 3"
      ]
    },
    {
      "cell_type": "code",
      "execution_count": null,
      "metadata": {
        "id": "9qh4AcV1OIVg"
      },
      "outputs": [],
      "source": [
        "5 > 3 > 1"
      ]
    },
    {
      "cell_type": "markdown",
      "source": [
        "## Python built-in functions and callables"
      ],
      "metadata": {
        "id": "2nMilLr3Eks7"
      }
    },
    {
      "cell_type": "markdown",
      "metadata": {
        "id": "P2PSKToEOIVh"
      },
      "source": [
        "\n",
        "\n",
        "A **function** is a Python object that you can \"call\" to **perform an action** or compute and **return another object**. You call a function by placing parentheses to the right of the function name. Some functions allow you to pass **arguments** inside the parentheses (separating multiple arguments with a comma). Internal to the function, these arguments are treated like variables.\n",
        "\n",
        "Python has several useful built-in functions to help you work with different objects and/or your environment. Here is a small sample of them:\n",
        "\n",
        "- **`type(obj)`** to determine the type of an object\n",
        "- **`len(string)`** to determine how many items are in a string\n",
        "- **`abs(number)`** to determine the absolute value of a number\n",
        "\n",
        "> Complete list of built-in functions: https://docs.python.org/3/library/functions.html\n"
      ]
    },
    {
      "cell_type": "code",
      "source": [
        "a_string = 'tHis is a sTriNg'"
      ],
      "metadata": {
        "id": "Wf59vqIxC7RB"
      },
      "execution_count": null,
      "outputs": []
    },
    {
      "cell_type": "code",
      "execution_count": null,
      "metadata": {
        "id": "qaafcr41OIVh"
      },
      "outputs": [],
      "source": [
        "type(a_string)"
      ]
    },
    {
      "cell_type": "code",
      "execution_count": null,
      "metadata": {
        "id": "eXCHbV17OIVi"
      },
      "outputs": [],
      "source": [
        "len(a_string)"
      ]
    },
    {
      "cell_type": "code",
      "execution_count": null,
      "metadata": {
        "id": "mnKxrIUqOIVi"
      },
      "outputs": [],
      "source": [
        "abs(-12)"
      ]
    },
    {
      "cell_type": "markdown",
      "source": [
        "## Python object attributes (methods and properties)"
      ],
      "metadata": {
        "id": "2sFnDB-ZE1PK"
      }
    },
    {
      "cell_type": "markdown",
      "metadata": {
        "id": "2oLOU1acOIVi"
      },
      "source": [
        "\n",
        "\n",
        "Different types of objects in Python have different **attributes** that can be referred to by name (similar to a variable). To access an attribute of an object, use a dot (`.`) after the object, then specify the attribute (i.e. `obj.attribute`)\n",
        "\n",
        "When an attribute of an object is a callable, that attribute is called a **method**. It is the same as a function, only this function is bound to a particular object.\n",
        "\n",
        "When an attribute of an object is not a callable, that attribute is called a **property**. It is just a piece of data about the object, that is itself another object.\n",
        "\n",
        "The built-in `dir()` function can be used to return a list of an object's attributes.\n",
        "\n",
        "<hr>\n",
        "\n",
        "### Some methods on string objects\n",
        "\n",
        "- **`.capitalize()`** to return a capitalized version of the string (only first char uppercase)\n",
        "- **`.upper()`** to return an uppercase version of the string (all chars uppercase)\n",
        "- **`.lower()`** to return an lowercase version of the string (all chars lowercase)\n",
        "- **`.count(substring)`** to return the number of occurences of the substring in the string\n",
        "- **`.startswith(substring)`** to determine if the string starts with the substring\n",
        "- **`.endswith(substring)`** to determine if the string ends with the substring\n",
        "- **`.replace(old, new)`** to return a copy of the string with occurences of the \"old\" replaced by \"new\""
      ]
    },
    {
      "cell_type": "markdown",
      "metadata": {
        "id": "PaZjdiwkOIVi"
      },
      "source": []
    },
    {
      "cell_type": "code",
      "execution_count": null,
      "metadata": {
        "id": "6nPmHv8DOIVi"
      },
      "outputs": [],
      "source": [
        "a_string = 'tHis is a sTriNg'"
      ]
    },
    {
      "cell_type": "code",
      "execution_count": null,
      "metadata": {
        "id": "B3kPTX73OIVj"
      },
      "outputs": [],
      "source": [
        "upper(a_string)"
      ]
    },
    {
      "cell_type": "code",
      "execution_count": null,
      "metadata": {
        "id": "H7HojECCOIVj"
      },
      "outputs": [],
      "source": [
        "a_string.count('t')"
      ]
    },
    {
      "cell_type": "code",
      "execution_count": null,
      "metadata": {
        "id": "oOLBBrpVOIVj"
      },
      "outputs": [],
      "source": [
        "a_string.upper()"
      ]
    },
    {
      "cell_type": "code",
      "source": [
        "a_string.lower()"
      ],
      "metadata": {
        "id": "Trh15ZgLCdhZ"
      },
      "execution_count": null,
      "outputs": []
    },
    {
      "cell_type": "code",
      "execution_count": null,
      "metadata": {
        "id": "yl9E3hEXOIVj"
      },
      "outputs": [],
      "source": [
        "a_string.capitalize()"
      ]
    },
    {
      "cell_type": "code",
      "execution_count": null,
      "metadata": {
        "id": "0fuRce0xOIVk"
      },
      "outputs": [],
      "source": [
        "# Count number of occurences of a substring in the string after a certain position\n",
        "a_string.count('i', 7)"
      ]
    },
    {
      "cell_type": "code",
      "execution_count": null,
      "metadata": {
        "id": "EjTFEn5sOIVk"
      },
      "outputs": [],
      "source": [
        "a_string.startswith('this')"
      ]
    },
    {
      "cell_type": "code",
      "execution_count": null,
      "metadata": {
        "id": "t0SYbGtuOIVk"
      },
      "outputs": [],
      "source": [
        "a_string.lower().startswith('this')"
      ]
    },
    {
      "cell_type": "code",
      "execution_count": null,
      "metadata": {
        "id": "zKPjzWRSOIVk"
      },
      "outputs": [],
      "source": [
        "a_string.endswith('Ng')"
      ]
    },
    {
      "cell_type": "code",
      "execution_count": null,
      "metadata": {
        "id": "SKImPO5OOIVk"
      },
      "outputs": [],
      "source": [
        "a_string.replace('is', 'XYZ')"
      ]
    },
    {
      "cell_type": "code",
      "execution_count": null,
      "metadata": {
        "id": "2QwtWPrSOIVl"
      },
      "outputs": [],
      "source": [
        "# Return a version of the string with the first 2 occurences a substring replaced with something else\n",
        "a_string.replace('i', '!', 2)"
      ]
    },
    {
      "cell_type": "code",
      "source": [
        "dir(a_string)"
      ],
      "metadata": {
        "id": "DsogtgvnE-T0"
      },
      "execution_count": null,
      "outputs": []
    },
    {
      "cell_type": "code",
      "source": [],
      "metadata": {
        "id": "kD5EOgseE_wu"
      },
      "execution_count": null,
      "outputs": []
    }
  ],
  "metadata": {
    "kernelspec": {
      "display_name": "Python 3 (ipykernel)",
      "language": "python",
      "name": "python3"
    },
    "language_info": {
      "codemirror_mode": {
        "name": "ipython",
        "version": 3
      },
      "file_extension": ".py",
      "mimetype": "text/x-python",
      "name": "python",
      "nbconvert_exporter": "python",
      "pygments_lexer": "ipython3",
      "version": "3.9.7"
    },
    "colab": {
      "provenance": [],
      "collapsed_sections": [
        "P9moEQgvDfMr",
        "DjuLZlQBDkxT",
        "wVWRKVibOIVb",
        "2nMilLr3Eks7",
        "2sFnDB-ZE1PK"
      ],
      "include_colab_link": true
    }
  },
  "nbformat": 4,
  "nbformat_minor": 0
}